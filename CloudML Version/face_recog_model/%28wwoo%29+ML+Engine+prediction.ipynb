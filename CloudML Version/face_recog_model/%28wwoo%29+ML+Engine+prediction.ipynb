{
 "cells": [
  {
   "cell_type": "markdown",
   "metadata": {
    "deletable": true,
    "editable": true
   },
   "source": [
    "# Cloud ML Engine Prediction Test"
   ]
  },
  {
   "cell_type": "code",
   "execution_count": 1,
   "metadata": {
    "collapsed": false,
    "deletable": true,
    "editable": true
   },
   "outputs": [
    {
     "data": {
      "image/jpeg": "[encoded data removed]",
      "text/plain": [
       "<IPython.core.display.Image object>"
      ]
     },
     "metadata": {},
     "output_type": "display_data"
    },
    {
     "name": "stdout",
     "output_type": "stream",
     "text": [
      "{u'predictions': [{u'prediction': [2.1277719497447833e-06, 0.9999629259109497, 2.6442356102052145e-05, 1.942615455163832e-07, 8.264843927463517e-06]}]}\n"
     ]
    }
   ],
   "source": [
    "from googleapiclient import discovery\n",
    "from oauth2client.client import GoogleCredentials\n",
    "import numpy\n",
    "import base64\n",
    "import logging\n",
    "\n",
    "from IPython.display import display, Image\n",
    "\n",
    "cropped_image = \"croppedjolie.jpg\"\n",
    "display(Image(cropped_image))\n",
    "\n",
    "PROJECT = 'terrycho-ml'\n",
    "MODEL_NAME = 'face_recog'\n",
    "MODEL_VERSION ='v7'\n",
    "\n",
    "\n",
    "def call_ml_service(img_str):\n",
    "    parent = 'projects/{}/models/{}/versions/{}'.format(PROJECT, MODEL_NAME,MODEL_VERSION)\n",
    "    pred = None\n",
    "\n",
    "    request_dict = {\n",
    "        \"instances\": [\n",
    "            {\n",
    "                \"image\": {\n",
    "                    \"b64\": img_str\n",
    "                }\n",
    "            }\n",
    "        ]\n",
    "    }\n",
    "\n",
    "    try:\n",
    "        credentials = GoogleCredentials.get_application_default()\n",
    "        cloudml_svc = discovery.build('ml', 'v1', credentials=credentials)\n",
    "        request = cloudml_svc.projects().predict(name=parent, body=request_dict)\n",
    "        response = request.execute()\n",
    "        print(response)\n",
    "        #pred = response['predictions'][0]['scores']\n",
    "        #pred = numpy.asarray(pred)\n",
    "\n",
    "    except Exception, e:\n",
    "        logging.exception(\"Something went wrong!\")\n",
    "\n",
    "    return pred\n",
    "\n",
    "\n",
    "# base64 encode the same image\n",
    "with open(cropped_image, 'rb') as image_file:\n",
    "    encoded_string = base64.b64encode(image_file.read())\n",
    "\n",
    "# See what ML Engine thinks\n",
    "online_prediction = call_ml_service(encoded_string)\n"
   ]
  },
  {
   "cell_type": "code",
   "execution_count": null,
   "metadata": {
    "collapsed": true,
    "deletable": true,
    "editable": true
   },
   "outputs": [],
   "source": []
  }
 ],
 "metadata": {
  "kernelspec": {
   "display_name": "Python 2",
   "language": "python",
   "name": "python2"
  },
  "language_info": {
   "codemirror_mode": {
    "name": "ipython",
    "version": 2
   },
   "file_extension": ".py",
   "mimetype": "text/x-python",
   "name": "python",
   "nbconvert_exporter": "python",
   "pygments_lexer": "ipython2",
   "version": "2.7.13"
  }
 },
 "nbformat": 4,
 "nbformat_minor": 2
}
